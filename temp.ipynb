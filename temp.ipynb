{
 "cells": [
  {
   "cell_type": "code",
   "execution_count": null,
   "metadata": {},
   "outputs": [],
   "source": []
  },
  {
   "cell_type": "code",
   "execution_count": 28,
   "metadata": {},
   "outputs": [],
   "source": [
    "def getMinimumCost (parcels, k) :\n",
    "# Write your code here\n",
    "    ans=0\n",
    "    count=k-len(parcels)\n",
    "    for i in range(1,k+1):\n",
    "        if(count==0):\n",
    "            break\n",
    "        if(i not in parcels):\n",
    "            ans+=i\n",
    "            count-=1\n",
    "        \n",
    "    return ans"
   ]
  },
  {
   "cell_type": "code",
   "execution_count": 29,
   "metadata": {},
   "outputs": [
    {
     "data": {
      "text/plain": [
       "9"
      ]
     },
     "execution_count": 29,
     "metadata": {},
     "output_type": "execute_result"
    }
   ],
   "source": [
    "getMinimumCost([6,5,4,1,3],7)"
   ]
  },
  {
   "cell_type": "code",
   "execution_count": 1,
   "metadata": {},
   "outputs": [],
   "source": [
    "def findmin(power,armor):\n",
    "    n =len(power)\n",
    "    ans =0\n",
    "    arm=True\n",
    "    for i in range (n):\n",
    "        if power[i]>armor and arm== True:\n",
    "            ans +=power[i]-armor\n",
    "            arm =False\n",
    "        else:\n",
    "            ans+=power[i]\n",
    "    if arm == True:\n",
    "        temp= max(power)\n",
    "        ans-=temp\n",
    "        arm=False\n",
    "    return ans+1\n"
   ]
  },
  {
   "cell_type": "code",
   "execution_count": 4,
   "metadata": {},
   "outputs": [
    {
     "data": {
      "text/plain": [
       "12"
      ]
     },
     "execution_count": 4,
     "metadata": {},
     "output_type": "execute_result"
    }
   ],
   "source": [
    "findmin([1,2,6,7],5)"
   ]
  }
 ],
 "metadata": {
  "kernelspec": {
   "display_name": "Python 3.8.5 64-bit ('Anaconda3')",
   "language": "python",
   "name": "python3"
  },
  "language_info": {
   "codemirror_mode": {
    "name": "ipython",
    "version": 3
   },
   "file_extension": ".py",
   "mimetype": "text/x-python",
   "name": "python",
   "nbconvert_exporter": "python",
   "pygments_lexer": "ipython3",
   "version": "3.8.5"
  },
  "orig_nbformat": 4,
  "vscode": {
   "interpreter": {
    "hash": "6078b4982c73f0fe59099b28eae3405552605dd322a1736c7f9f0bbae82a280e"
   }
  }
 },
 "nbformat": 4,
 "nbformat_minor": 2
}
